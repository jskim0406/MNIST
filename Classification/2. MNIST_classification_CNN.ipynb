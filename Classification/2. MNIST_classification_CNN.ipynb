{
 "cells": [
  {
   "cell_type": "markdown",
   "id": "essential-florist",
   "metadata": {},
   "source": [
    "# MNIST classification"
   ]
  },
  {
   "cell_type": "markdown",
   "id": "composed-intro",
   "metadata": {},
   "source": [
    "오늘부터 pytorch로 딥러닝을 다시 시작해보려 한다.\n",
    "요새 코딩을 통 하지 않아 까먹기도 했고, 처음부터 착착착 쌓아가고 싶은 마음도 있었다.\n",
    "나만의 스크래치 코딩을 통해..\n",
    "\n",
    "계획은 이렇다.\n",
    "\n",
    "```\n",
    "1. classification > MNIST > CNN, RNN, LSTM, transformer\n",
    "2. classification > IMDB > LSTM, transformer\n",
    "3. classification > CIFAR-10 > CNN, RNN, LSTM, transformer\n",
    "4. generation > text data > seq2seq, transformer, BERT\n",
    "5. 그 외.. (grad-CAM, GAN, time-series, anomaly-d, reinforcement ..)\n",
    "```\n",
    "\n",
    "\n",
    "이렇게 다양한 task에 대해 착착 쌓아가고 싶다.\n",
    "\n",
    "바쁜 스케줄 속에서, 꾸준히 이걸 해나가려면, 아마 잠자는 시간을 쪼개야 할 것이다.\n",
    "잠자는 건.. 주말에 하루 몰아서 푹 자자.\n",
    "\n",
    "숲 속에 있다보니, 멍 때리면서 가끔 지금의 시간이 얼마나 소중한지를 잊곤 한다.\n",
    "잊지 말자. 그 기억, 그 깨달음이 너의 힘인 데, 그걸 잊으면 넌 모두 잃어버리는 것이나 마찬가지다.\n",
    "\n",
    "여튼, 오늘부터 MNIST 데이터 셋을 받아, digit image classificaiton task를 풀어볼 것이다."
   ]
  },
  {
   "cell_type": "markdown",
   "id": "professional-emerald",
   "metadata": {},
   "source": [
    "**이번엔 지난번에 이어 CNN구조를 활용할 것이다.**\n",
    "\n",
    "\n",
    "지난 FC 구조를 활용한 작업 후, 모듈화를 진행했다. 이번엔 이 모듈화된 .py들을 활용해 진행할 것이다. 코드는 github에서 확인 가능하다."
   ]
  },
  {
   "cell_type": "code",
   "execution_count": 1,
   "id": "dirty-thermal",
   "metadata": {},
   "outputs": [
    {
     "data": {
      "text/plain": [
       "'/home/jeongseobkim/바탕화면/pytorch_reboost/MNIST_classification'"
      ]
     },
     "execution_count": 1,
     "metadata": {},
     "output_type": "execute_result"
    }
   ],
   "source": [
    "import os\n",
    "os.getcwd()"
   ]
  },
  {
   "cell_type": "code",
   "execution_count": 2,
   "id": "dated-broadway",
   "metadata": {},
   "outputs": [
    {
     "name": "stdout",
     "output_type": "stream",
     "text": [
      " 0.exercise.ipynb\t\t       __pycache__      models\r\n",
      "'1. MNIST_classification_FC.ipynb'     data\t        train.py\r\n",
      "'2. MNIST_classification_CNN.ipynb'    dataloader.py    trainer.py\r\n",
      "'3. MNIST_classification_CNN.ipynb'    model_cnn.pth    utils.py\r\n",
      "'3. MNIST_classification_LSTM.ipynb'   model_lstm.pth\r\n"
     ]
    }
   ],
   "source": [
    "!ls"
   ]
  },
  {
   "cell_type": "code",
   "execution_count": 3,
   "id": "individual-darkness",
   "metadata": {},
   "outputs": [],
   "source": [
    "import numpy as np\n",
    "import matplotlib.pyplot as plt\n",
    "\n",
    "import torch\n",
    "import torch.nn as nn\n",
    "import torchvision\n",
    "from torchvision import transforms\n",
    "from torch.utils.data import Dataset, DataLoader\n",
    "\n",
    "from dataloader import *\n",
    "from models.model_fc import *\n",
    "from models.model_cnn import *\n",
    "from models.model_lstm import *"
   ]
  },
  {
   "cell_type": "markdown",
   "id": "addressed-kernel",
   "metadata": {},
   "source": [
    "# train"
   ]
  },
  {
   "cell_type": "code",
   "execution_count": 4,
   "id": "satisfied-reporter",
   "metadata": {
    "scrolled": true
   },
   "outputs": [],
   "source": [
    "# !python train.py --model lstm --model_fn model_lstm.pth"
   ]
  },
  {
   "cell_type": "markdown",
   "id": "animated-bankruptcy",
   "metadata": {},
   "source": [
    "**Ipython에선 위 처럼 에러가 났다. 그래서 terminal에서 돌려서 model_lstm.pth를 얻기로 했다.**"
   ]
  },
  {
   "cell_type": "markdown",
   "id": "pharmaceutical-agent",
   "metadata": {},
   "source": [
    "# test"
   ]
  },
  {
   "cell_type": "code",
   "execution_count": 5,
   "id": "interior-swedish",
   "metadata": {},
   "outputs": [
    {
     "data": {
      "text/plain": [
       "Namespace(batch_norm=True, batch_size=32, gpu_id=0, hidden_size=64, lr=0.01, model='cnn', model_fn='model_cnn.pth', n_epochs=30, num_layers=3, optim='adam', train_ratio=0.8)"
      ]
     },
     "execution_count": 5,
     "metadata": {},
     "output_type": "execute_result"
    }
   ],
   "source": [
    "import argparse\n",
    "config = argparse.Namespace()\n",
    "\n",
    "config.model = 'cnn'\n",
    "config.model_fn = 'model_cnn.pth'\n",
    "config.gpu_id = 0 if torch.cuda.is_available() else -1\n",
    "config.batch_size = 32\n",
    "config.optim = 'adam'\n",
    "config.lr = 1e-2\n",
    "config.train_ratio = .8\n",
    "config.n_epochs = 30\n",
    "config.batch_norm = True\n",
    "config.hidden_size = 64\n",
    "config.num_layers = 3\n",
    "\n",
    "config"
   ]
  },
  {
   "cell_type": "code",
   "execution_count": 6,
   "id": "nonprofit-ceiling",
   "metadata": {},
   "outputs": [
    {
     "data": {
      "text/plain": [
       "313"
      ]
     },
     "execution_count": 6,
     "metadata": {},
     "output_type": "execute_result"
    }
   ],
   "source": [
    "# test data load\n",
    "\n",
    "_, _, test_loader = get_loaders(config)\n",
    "\n",
    "len(test_loader)"
   ]
  },
  {
   "cell_type": "code",
   "execution_count": 7,
   "id": "black-lease",
   "metadata": {},
   "outputs": [
    {
     "name": "stdout",
     "output_type": "stream",
     "text": [
      "x shape: torch.Size([32, 28, 28]), y shape : torch.Size([32])\n"
     ]
    }
   ],
   "source": [
    "for x, y in test_loader:\n",
    "    print(f\"x shape: {x.shape}, y shape : {y.shape}\")\n",
    "    break"
   ]
  },
  {
   "cell_type": "code",
   "execution_count": 8,
   "id": "neutral-dynamics",
   "metadata": {},
   "outputs": [],
   "source": [
    "# model load\n",
    "\n",
    "device = torch.device('cuda:0') if torch.cuda.is_available() else torch.device('cpu')\n",
    "\n",
    "model = torch.load('model_cnn.pth', map_location=device)\n",
    "\n",
    "# model['model']"
   ]
  },
  {
   "cell_type": "code",
   "execution_count": 9,
   "id": "supported-millennium",
   "metadata": {},
   "outputs": [],
   "source": [
    "# model['config']"
   ]
  },
  {
   "cell_type": "code",
   "execution_count": 10,
   "id": "likely-supervision",
   "metadata": {},
   "outputs": [],
   "source": [
    "# model['opt']"
   ]
  },
  {
   "cell_type": "code",
   "execution_count": 11,
   "id": "extended-intro",
   "metadata": {},
   "outputs": [],
   "source": [
    "model_dict = model['model']\n",
    "model_config = model['config']"
   ]
  },
  {
   "cell_type": "markdown",
   "id": "canadian-warehouse",
   "metadata": {},
   "source": [
    "# test"
   ]
  },
  {
   "cell_type": "code",
   "execution_count": 12,
   "id": "fifth-spread",
   "metadata": {},
   "outputs": [
    {
     "name": "stdout",
     "output_type": "stream",
     "text": [
      "accuracy : 0.994\n"
     ]
    }
   ],
   "source": [
    "model = Cnn_classifier(10).to(device)\n",
    "\n",
    "model.load_state_dict(model_dict)\n",
    "\n",
    "correct_cnt, y_cnt = 0, 0\n",
    "\n",
    "model.eval()\n",
    "with torch.no_grad():\n",
    "    for x, y in test_loader:\n",
    "        x = x.type(torch.cuda.FloatTensor)     \n",
    "        x, y = x.to(device), y.to(device)\n",
    "        \n",
    "        # |x| = (32,28,28)\n",
    "        y_hat = model(x).to(device)\n",
    "        # |y_hat| = (32,10)\n",
    "        # |y| = (32)\n",
    "        \n",
    "        correct_cnt += float((y == torch.argmax(y_hat, dim=-1)).sum())\n",
    "        y_cnt += len(y)\n",
    "\n",
    "    accuracy = correct_cnt / y_cnt\n",
    "    \n",
    "    print(\"accuracy : %.3f\" % accuracy)"
   ]
  },
  {
   "cell_type": "markdown",
   "id": "protected-snowboard",
   "metadata": {},
   "source": [
    "test accuracy가 0.994로 매우 높게 나왔다."
   ]
  }
 ],
 "metadata": {
  "kernelspec": {
   "display_name": "Python 3",
   "language": "python",
   "name": "python3"
  },
  "language_info": {
   "codemirror_mode": {
    "name": "ipython",
    "version": 3
   },
   "file_extension": ".py",
   "mimetype": "text/x-python",
   "name": "python",
   "nbconvert_exporter": "python",
   "pygments_lexer": "ipython3",
   "version": "3.8.8"
  }
 },
 "nbformat": 4,
 "nbformat_minor": 5
}

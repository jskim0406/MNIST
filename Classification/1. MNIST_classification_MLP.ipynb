{
 "cells": [
  {
   "cell_type": "markdown",
   "metadata": {},
   "source": [
    "# MNIST classification"
   ]
  },
  {
   "cell_type": "markdown",
   "metadata": {},
   "source": [
    "오늘부터 pytorch로 딥러닝을 다시 시작해보려 한다.\n",
    "요새 코딩을 통 하지 않아 까먹기도 했고, 처음부터 착착착 쌓아가고 싶은 마음도 있었다.\n",
    "나만의 스크래치 코딩을 통해..\n",
    "\n",
    "계획은 이렇다.\n",
    "\n",
    "```\n",
    "1. classification > MNIST > CNN, RNN, LSTM, transformer\n",
    "2. classification > IMDB > LSTM, transformer\n",
    "3. classification > CIFAR-10 > CNN, RNN, LSTM, transformer\n",
    "4. generation > text data > seq2seq, transformer, BERT\n",
    "5. 그 외.. (grad-CAM, GAN, time-series, anomaly-d, reinforcement ..)\n",
    "```\n",
    "\n",
    "\n",
    "이렇게 다양한 task에 대해 착착 쌓아가고 싶다.\n",
    "\n",
    "바쁜 스케줄 속에서, 꾸준히 이걸 해나가려면, 아마 잠자는 시간을 쪼개야 할 것이다.\n",
    "잠자는 건.. 주말에 하루 몰아서 푹 자자.\n",
    "\n",
    "숲 속에 있다보니, 멍 때리면서 가끔 지금의 시간이 얼마나 소중한지를 잊곤 한다.\n",
    "잊지 말자. 그 기억, 그 깨달음이 너의 힘인 데, 그걸 잊으면 넌 모두 잃어버리는 것이나 마찬가지다.\n",
    "\n",
    "여튼, 오늘부터 MNIST 데이터 셋을 받아, digit image classificaiton task를 풀어볼 것이다."
   ]
  },
  {
   "cell_type": "markdown",
   "metadata": {},
   "source": [
    "## module import\n",
    "\n",
    "필요한 module들을 꺼내올 것이다. 보통 library > package > module 포함관계로 생각하면 된다. module이 '.py' 로 구성되는 script파일을 생각하면 되고, 이를 모아놓은 것을 하나의 package로 생각할 수 있다. \n",
    "\n",
    "따라서, package는 주로 하나의 directory를 이루는 경우가 많다. 물론, package안에 .py 파일만 있는 것이 아니라, 폴더도 존재할 수 있다. 이렇게 package(folder) > subpackage(folder) > module(.py file) 식 구성도 가능하다.\n",
    "\n",
    "일단, 먼저 가장 기본적인 pytorch 라이브러리인 ```torch```관련 모듈을 import 한다.\n",
    "(numpy 등 기본적인 라이브러리는 개인 설정을 통해 쥬피터노트북 시작과 함께 미리 모두 import 되도록 해놓아서, 따로 import하지는 않았다. 그 외 실험에 필요한 라이브러리, 패키지들은 실험 중간중간 필요할 때마다 import 할 예정이다.)"
   ]
  },
  {
   "cell_type": "code",
   "execution_count": 1,
   "metadata": {},
   "outputs": [],
   "source": [
    "import torch\n",
    "import torch.nn as nn\n",
    "import torch.optim as optim"
   ]
  },
  {
   "cell_type": "markdown",
   "metadata": {},
   "source": [
    "\n",
    "## Data Preparation (MNIST)\n",
    "\n",
    "이젠 MNIST dataset을 download 할 것이다. MNIST dataset은 워낙 유명하고, 여러 예제로 많이 쓰이는 데이터이기에 이미 torch, tensorflow, scikit-learn 등 다양한 라이브러리에 이미 내장되어 있다. 따라서, 해당 라이브러리에서 다운받을 수 있다. 이번엔 torch에서 다운로드 받을 것이다.\n",
    "\n",
    "```\n",
    "https://pytorch.org/vision/stable/datasets.html#\n",
    "```\n",
    "\n",
    "를 통해 torch에서 제공하는 dataset을 확인할 수 있다.\n",
    "\n",
    "**torch dataset의 특징**\n",
    "\n",
    "1. custom dataset 구성이 가능한 ```torch.utils.data.Dataset```를 상속\n",
    "    - ```torchvision.datasets``` subclass에 dataset이 저장되어 있음\n",
    "        - ex) ```imagenet_data = torchvision.datasets.ImageNet('path/to/imagenet_root/')```\n",
    "    - 이렇게 torchvision에서 다운 받은 dataset을 DataLoader의 batchify 대상이 되는 CustomDataset 정의!\n",
    "    - CustomDataset정의 시, method overriding -> DataLoader에서의 Indexing(```__getitem__```), 전체 데이터 길이 확인(```__len__```)을 지정\n",
    "        - ```__getitem__```\n",
    "        - ```__len__```\n",
    "\n",
    "\n",
    "설명에 따르면, torch의 모든 dataset(torchvision.datasets의 subclass로 구현된)은 ```torch.utils.data.Dataset```의 subclass이다. 즉, ```torch.utils.data.Dataset```를 상속받아 dataset을 구성한다는 것이다. 그리고, Dataset class는 ```__getitem__```, ```__len__``` method를 갖기 때문에, 이를 상속받을 땐, 2가지 method를 overriding 해줘야 한다.\n",
    "\n",
    "\n",
    "2. 병렬 연산 batchify를 위한 ```torch.utils.data.DataLoader``` 활용 가능\n",
    "    - DataLoader can load multiple samples in parallel using ```torch.multiprocessing```workers\n",
    "    - 따라서, Dataset을 상속받아 __getitem__, __len__을 customizing 하고 -> 이를 활용해 DataLoader를 만들어, multi-processing이 가능하게끔 처리해준다. 그리고 이 DataLoader에서 batch단위로 데이터를 꺼내 학습시킨다! \n",
    "    \n",
    "    \n",
    "**정리하자면**\n",
    "1. downloaded data\n",
    "2. preprocessing (min-max scaling / flatten(when the structure of model is only fully-connected layer))\n",
    "2. CustomDataset(downloaded data)\n",
    "3. DataLoader(CustomDataset)\n",
    "\n",
    "순으로 data -> batchify까지 마무리한다.\n",
    "\n"
   ]
  },
  {
   "cell_type": "markdown",
   "metadata": {},
   "source": [
    "### downloaded data"
   ]
  },
  {
   "cell_type": "code",
   "execution_count": 2,
   "metadata": {
    "slideshow": {
     "slide_type": "slide"
    }
   },
   "outputs": [],
   "source": [
    "import torchvision\n",
    "from torchvision import transforms"
   ]
  },
  {
   "cell_type": "code",
   "execution_count": 3,
   "metadata": {
    "slideshow": {
     "slide_type": "slide"
    }
   },
   "outputs": [],
   "source": [
    "mnist_train = torchvision.datasets.MNIST('./data/MNIST', \n",
    "                                        train=True,\n",
    "                                        download=True,\n",
    "                                        transform=transforms.Compose([transforms.ToTensor()]))"
   ]
  },
  {
   "cell_type": "code",
   "execution_count": 4,
   "metadata": {
    "slideshow": {
     "slide_type": "slide"
    }
   },
   "outputs": [
    {
     "data": {
      "text/plain": [
       "Dataset MNIST\n",
       "    Number of datapoints: 60000\n",
       "    Root location: ./data/MNIST\n",
       "    Split: Train\n",
       "    StandardTransform\n",
       "Transform: Compose(\n",
       "               ToTensor()\n",
       "           )"
      ]
     },
     "execution_count": 4,
     "metadata": {},
     "output_type": "execute_result"
    }
   ],
   "source": [
    "mnist_train"
   ]
  },
  {
   "cell_type": "markdown",
   "metadata": {},
   "source": [
    "torchvision을 통해 데이터를 다운받으려 했으나, HTTPError가 나왔다. \n",
    "\n",
    "```\n",
    "http://yann.lecun.com/exdb/mnist/\n",
    "```\n",
    "\n",
    "공식 mnist 홈페이지 자체가 '503 service unavailable'이라 뜨는 것으로 보아, 내 환경의 문제가 아닌 듯 하다.\n",
    "일단, 예전에 실습하며 받아놓았던 mnist data파일을 활용하기로 하자. 어떤 문제 앞에서도 유연하게..."
   ]
  },
  {
   "cell_type": "code",
   "execution_count": 5,
   "metadata": {
    "scrolled": true
   },
   "outputs": [],
   "source": [
    "# datasets.get_data_home()"
   ]
  },
  {
   "cell_type": "code",
   "execution_count": 6,
   "metadata": {
    "scrolled": false
   },
   "outputs": [],
   "source": [
    "# !ls -al /Users/kimjeongseob/scikit_learn_data/mldata"
   ]
  },
  {
   "cell_type": "markdown",
   "metadata": {},
   "source": [
    "엇.. scikit-learn을 활용해 데이터를 로드할 수 있는 다른 방법을 알아보던 중.. 신기하게도\n",
    "\n",
    "```\n",
    "http://yann.lecun.com/exdb/mnist/\n",
    "```\n",
    "\n",
    "이 페이지가 다시 되살아났다.. 덕분에 torchvision을 통해 데이터 로드가 가능해졌다. 모두 다 저 페이지를 통해 다운받아서 load하도록 되어있기 때문에, 저 페이지가 죽으면 load할 수 없는 것이다.."
   ]
  },
  {
   "cell_type": "code",
   "execution_count": 7,
   "metadata": {},
   "outputs": [
    {
     "data": {
      "text/plain": [
       "Dataset MNIST\n",
       "    Number of datapoints: 60000\n",
       "    Root location: ./data/MNIST\n",
       "    Split: Train\n",
       "    StandardTransform\n",
       "Transform: Compose(\n",
       "               ToTensor()\n",
       "           )"
      ]
     },
     "execution_count": 7,
     "metadata": {},
     "output_type": "execute_result"
    }
   ],
   "source": [
    "mnist_train"
   ]
  },
  {
   "cell_type": "code",
   "execution_count": 8,
   "metadata": {},
   "outputs": [
    {
     "name": "stdout",
     "output_type": "stream",
     "text": [
      "['__add__', '__class__', '__class_getitem__', '__delattr__', '__dict__', '__dir__', '__doc__', '__eq__', '__format__', '__ge__', '__getattribute__', '__getitem__', '__gt__', '__hash__', '__init__', '__init_subclass__', '__le__', '__len__', '__lt__', '__module__', '__ne__', '__new__', '__orig_bases__', '__parameters__', '__reduce__', '__reduce_ex__', '__repr__', '__setattr__', '__sizeof__', '__slots__', '__str__', '__subclasshook__', '__weakref__', '_check_exists', '_format_transform_repr', '_is_protocol', '_repr_indent', 'class_to_idx', 'classes', 'data', 'download', 'extra_repr', 'processed_folder', 'raw_folder', 'resources', 'root', 'target_transform', 'targets', 'test_data', 'test_file', 'test_labels', 'train', 'train_data', 'train_labels', 'training_file', 'transform', 'transforms']\n"
     ]
    }
   ],
   "source": [
    "print(dir(mnist_train))"
   ]
  },
  {
   "cell_type": "markdown",
   "metadata": {},
   "source": [
    "torchvision에서 받은 mnist_data_pack은 위와 같은 magic method와 attribute들로 구성되어 있다. 하나씩 살펴보자"
   ]
  },
  {
   "cell_type": "code",
   "execution_count": 9,
   "metadata": {
    "scrolled": true
   },
   "outputs": [
    {
     "data": {
      "text/plain": [
       "torch.Size([60000, 28, 28])"
      ]
     },
     "execution_count": 9,
     "metadata": {},
     "output_type": "execute_result"
    }
   ],
   "source": [
    "mnist_train.data.shape"
   ]
  },
  {
   "cell_type": "code",
   "execution_count": 10,
   "metadata": {},
   "outputs": [
    {
     "data": {
      "text/plain": [
       "tensor([[  0,   0,   0,   0,   0,   0,   0,   0,   0,   0,   0,   0,   0,   0,\n",
       "           0,   0,   0,   0,   0,   0,   0,   0,   0,   0,   0,   0,   0,   0],\n",
       "        [  0,   0,   0,   0,   0,   0,   0,   0,   0,   0,   0,   0,   0,   0,\n",
       "           0,   0,   0,   0,   0,   0,   0,   0,   0,   0,   0,   0,   0,   0],\n",
       "        [  0,   0,   0,   0,   0,   0,   0,   0,   0,   0,   0,   0,   0,   0,\n",
       "           0,   0,   0,   0,   0,   0,   0,   0,   0,   0,   0,   0,   0,   0],\n",
       "        [  0,   0,   0,   0,   0,   0,   0,   0,   0,   0,   0,   0,   0,   0,\n",
       "           0,   0,   0,   0,   0,   0,   0,   0,   0,   0,   0,   0,   0,   0],\n",
       "        [  0,   0,   0,   0,   0,   0,   0,   0,   0,   0,   0,   0,   0,   0,\n",
       "           0,   0,   0,   0,   0,   0,   0,   0,   0,   0,   0,   0,   0,   0],\n",
       "        [  0,   0,   0,   0,   0,   0,   0,   0,   0,   0,   0,   0,   3,  18,\n",
       "          18,  18, 126, 136, 175,  26, 166, 255, 247, 127,   0,   0,   0,   0],\n",
       "        [  0,   0,   0,   0,   0,   0,   0,   0,  30,  36,  94, 154, 170, 253,\n",
       "         253, 253, 253, 253, 225, 172, 253, 242, 195,  64,   0,   0,   0,   0],\n",
       "        [  0,   0,   0,   0,   0,   0,   0,  49, 238, 253, 253, 253, 253, 253,\n",
       "         253, 253, 253, 251,  93,  82,  82,  56,  39,   0,   0,   0,   0,   0],\n",
       "        [  0,   0,   0,   0,   0,   0,   0,  18, 219, 253, 253, 253, 253, 253,\n",
       "         198, 182, 247, 241,   0,   0,   0,   0,   0,   0,   0,   0,   0,   0],\n",
       "        [  0,   0,   0,   0,   0,   0,   0,   0,  80, 156, 107, 253, 253, 205,\n",
       "          11,   0,  43, 154,   0,   0,   0,   0,   0,   0,   0,   0,   0,   0],\n",
       "        [  0,   0,   0,   0,   0,   0,   0,   0,   0,  14,   1, 154, 253,  90,\n",
       "           0,   0,   0,   0,   0,   0,   0,   0,   0,   0,   0,   0,   0,   0],\n",
       "        [  0,   0,   0,   0,   0,   0,   0,   0,   0,   0,   0, 139, 253, 190,\n",
       "           2,   0,   0,   0,   0,   0,   0,   0,   0,   0,   0,   0,   0,   0],\n",
       "        [  0,   0,   0,   0,   0,   0,   0,   0,   0,   0,   0,  11, 190, 253,\n",
       "          70,   0,   0,   0,   0,   0,   0,   0,   0,   0,   0,   0,   0,   0],\n",
       "        [  0,   0,   0,   0,   0,   0,   0,   0,   0,   0,   0,   0,  35, 241,\n",
       "         225, 160, 108,   1,   0,   0,   0,   0,   0,   0,   0,   0,   0,   0],\n",
       "        [  0,   0,   0,   0,   0,   0,   0,   0,   0,   0,   0,   0,   0,  81,\n",
       "         240, 253, 253, 119,  25,   0,   0,   0,   0,   0,   0,   0,   0,   0],\n",
       "        [  0,   0,   0,   0,   0,   0,   0,   0,   0,   0,   0,   0,   0,   0,\n",
       "          45, 186, 253, 253, 150,  27,   0,   0,   0,   0,   0,   0,   0,   0],\n",
       "        [  0,   0,   0,   0,   0,   0,   0,   0,   0,   0,   0,   0,   0,   0,\n",
       "           0,  16,  93, 252, 253, 187,   0,   0,   0,   0,   0,   0,   0,   0],\n",
       "        [  0,   0,   0,   0,   0,   0,   0,   0,   0,   0,   0,   0,   0,   0,\n",
       "           0,   0,   0, 249, 253, 249,  64,   0,   0,   0,   0,   0,   0,   0],\n",
       "        [  0,   0,   0,   0,   0,   0,   0,   0,   0,   0,   0,   0,   0,   0,\n",
       "          46, 130, 183, 253, 253, 207,   2,   0,   0,   0,   0,   0,   0,   0],\n",
       "        [  0,   0,   0,   0,   0,   0,   0,   0,   0,   0,   0,   0,  39, 148,\n",
       "         229, 253, 253, 253, 250, 182,   0,   0,   0,   0,   0,   0,   0,   0],\n",
       "        [  0,   0,   0,   0,   0,   0,   0,   0,   0,   0,  24, 114, 221, 253,\n",
       "         253, 253, 253, 201,  78,   0,   0,   0,   0,   0,   0,   0,   0,   0],\n",
       "        [  0,   0,   0,   0,   0,   0,   0,   0,  23,  66, 213, 253, 253, 253,\n",
       "         253, 198,  81,   2,   0,   0,   0,   0,   0,   0,   0,   0,   0,   0],\n",
       "        [  0,   0,   0,   0,   0,   0,  18, 171, 219, 253, 253, 253, 253, 195,\n",
       "          80,   9,   0,   0,   0,   0,   0,   0,   0,   0,   0,   0,   0,   0],\n",
       "        [  0,   0,   0,   0,  55, 172, 226, 253, 253, 253, 253, 244, 133,  11,\n",
       "           0,   0,   0,   0,   0,   0,   0,   0,   0,   0,   0,   0,   0,   0],\n",
       "        [  0,   0,   0,   0, 136, 253, 253, 253, 212, 135, 132,  16,   0,   0,\n",
       "           0,   0,   0,   0,   0,   0,   0,   0,   0,   0,   0,   0,   0,   0],\n",
       "        [  0,   0,   0,   0,   0,   0,   0,   0,   0,   0,   0,   0,   0,   0,\n",
       "           0,   0,   0,   0,   0,   0,   0,   0,   0,   0,   0,   0,   0,   0],\n",
       "        [  0,   0,   0,   0,   0,   0,   0,   0,   0,   0,   0,   0,   0,   0,\n",
       "           0,   0,   0,   0,   0,   0,   0,   0,   0,   0,   0,   0,   0,   0],\n",
       "        [  0,   0,   0,   0,   0,   0,   0,   0,   0,   0,   0,   0,   0,   0,\n",
       "           0,   0,   0,   0,   0,   0,   0,   0,   0,   0,   0,   0,   0,   0]],\n",
       "       dtype=torch.uint8)"
      ]
     },
     "execution_count": 10,
     "metadata": {},
     "output_type": "execute_result"
    }
   ],
   "source": [
    "mnist_train.data[0]"
   ]
  },
  {
   "cell_type": "markdown",
   "metadata": {},
   "source": [
    "일단 데이터 자체는 torch tensor로 구성되어있고, dtype은 uint8이다. uint8은 integer의 가장 기본적인 단위로 보면 된다. integer는 8, 16, 32, 64로 이어지는 데, 64일 경우, Long tensor라 부른다. uint8은 8bit=1byte로, byte-tensor라고도 한다. 즉, 현재의 mnist dataset은 1바이트씩 정보를 담고 있다는 의미가 되겠다."
   ]
  },
  {
   "cell_type": "code",
   "execution_count": 11,
   "metadata": {},
   "outputs": [
    {
     "data": {
      "text/plain": [
       "['0 - zero',\n",
       " '1 - one',\n",
       " '2 - two',\n",
       " '3 - three',\n",
       " '4 - four',\n",
       " '5 - five',\n",
       " '6 - six',\n",
       " '7 - seven',\n",
       " '8 - eight',\n",
       " '9 - nine']"
      ]
     },
     "execution_count": 11,
     "metadata": {},
     "output_type": "execute_result"
    }
   ],
   "source": [
    "mnist_train.classes"
   ]
  },
  {
   "cell_type": "code",
   "execution_count": 12,
   "metadata": {},
   "outputs": [
    {
     "data": {
      "text/plain": [
       "torch.Size([60000])"
      ]
     },
     "execution_count": 12,
     "metadata": {},
     "output_type": "execute_result"
    }
   ],
   "source": [
    "mnist_train.targets.shape"
   ]
  },
  {
   "cell_type": "code",
   "execution_count": 13,
   "metadata": {},
   "outputs": [
    {
     "name": "stdout",
     "output_type": "stream",
     "text": [
      "train x : torch.Size([60000, 28, 28]), train y : torch.Size([60000])\n"
     ]
    }
   ],
   "source": [
    "x_train, y_train = mnist_train.data, mnist_train.targets\n",
    "\n",
    "print(f\"train x : {x_train.shape}, train y : {y_train.shape}\")"
   ]
  },
  {
   "cell_type": "markdown",
   "metadata": {},
   "source": [
    "train dataset은 총 6만개의 sample을 갖고 있고, 각 sample은 28x28로 되어있다. channel은 1개. 즉, gray-scale이고, 28x28 pixel을 갖고 있어, 해상도는 그리 좋지 않을 것 같다. 직접 데이터를 확인해보자"
   ]
  },
  {
   "cell_type": "code",
   "execution_count": 14,
   "metadata": {},
   "outputs": [
    {
     "data": {
      "image/png": "[encoded data removed]",
      "text/plain": [
       "<Figure size 432x288 with 1 Axes>"
      ]
     },
     "metadata": {},
     "output_type": "display_data"
    }
   ],
   "source": [
    "import matplotlib.pyplot as plt\n",
    "%matplotlib inline\n",
    "\n",
    "fig = plt.figure()\n",
    "ax = fig.add_subplot()\n",
    "ax.tick_params(labelleft=False, labelbottom=False)\n",
    "ax.grid(False)    \n",
    "ax.imshow(x_train[0], cmap='gray')\n",
    "ax.set_title(f\"label : {y_train[0]}\", fontsize=15)\n",
    "plt.show()"
   ]
  },
  {
   "cell_type": "markdown",
   "metadata": {},
   "source": [
    "위와 같이, 숫자 5가 이미지로 저장이 되어있다.\n",
    "\n",
    "이제, 아래와 같은 단계를 거칠 예정이다.\n",
    "```\n",
    "1) test_set 다운로드\n",
    "2) train_set 전처리 / shuffling\n",
    "3) train / valid set split\n",
    "4) Custom Dataset\n",
    "5) DataLoader 구성 => train_loader, valid_loader, test_loader 구성\n",
    "```"
   ]
  },
  {
   "cell_type": "code",
   "execution_count": 15,
   "metadata": {},
   "outputs": [
    {
     "data": {
      "text/plain": [
       "Dataset MNIST\n",
       "    Number of datapoints: 10000\n",
       "    Root location: ./data/MNIST\n",
       "    Split: Test\n",
       "    StandardTransform\n",
       "Transform: Compose(\n",
       "               ToTensor()\n",
       "           )"
      ]
     },
     "execution_count": 15,
     "metadata": {},
     "output_type": "execute_result"
    }
   ],
   "source": [
    "# 1) test_set download\n",
    "\n",
    "mnist_test = torchvision.datasets.MNIST('./data/MNIST', \n",
    "                                        train=False, \n",
    "                                        download=True,\n",
    "                                        transform=transforms.Compose([transforms.ToTensor()]))\n",
    "mnist_test"
   ]
  },
  {
   "cell_type": "code",
   "execution_count": 16,
   "metadata": {},
   "outputs": [
    {
     "data": {
      "text/plain": [
       "['0 - zero',\n",
       " '1 - one',\n",
       " '2 - two',\n",
       " '3 - three',\n",
       " '4 - four',\n",
       " '5 - five',\n",
       " '6 - six',\n",
       " '7 - seven',\n",
       " '8 - eight',\n",
       " '9 - nine']"
      ]
     },
     "execution_count": 16,
     "metadata": {},
     "output_type": "execute_result"
    }
   ],
   "source": [
    "mnist_test.classes"
   ]
  },
  {
   "cell_type": "code",
   "execution_count": 17,
   "metadata": {},
   "outputs": [
    {
     "name": "stdout",
     "output_type": "stream",
     "text": [
      "train x : torch.Size([10000, 28, 28]), train y : torch.Size([10000])\n"
     ]
    }
   ],
   "source": [
    "x_test, y_test = mnist_test.data, mnist_test.targets\n",
    "\n",
    "print(f\"train x : {x_test.shape}, train y : {y_test.shape}\")"
   ]
  },
  {
   "cell_type": "code",
   "execution_count": 18,
   "metadata": {},
   "outputs": [
    {
     "name": "stdout",
     "output_type": "stream",
     "text": [
      "indices shape : torch.Size([60000])\n",
      "x shape : torch.Size([60000, 28, 28]), y shape : torch.Size([60000])\n"
     ]
    }
   ],
   "source": [
    "# 2) train_set 전처리 / shuffling\n",
    "\n",
    "# shuffling\n",
    "indices = torch.randperm(x_train.shape[0])\n",
    "print(f\"indices shape : {indices.shape}\")\n",
    "\n",
    "x_train = torch.index_select(x_train, index=indices, dim=0)\n",
    "y_train = torch.index_select(y_train, index=indices, dim=0)\n",
    "print(f\"x shape : {x_train.shape}, y shape : {y_train.shape}\")"
   ]
  },
  {
   "cell_type": "code",
   "execution_count": 19,
   "metadata": {},
   "outputs": [
    {
     "name": "stdout",
     "output_type": "stream",
     "text": [
      "max value of x data : 255\n",
      "min value of x data : 0\n",
      "max value of x data : 1.0\n",
      "min value of x data : 0.0\n"
     ]
    }
   ],
   "source": [
    "# 전처리 => min-max scaling to x_train\n",
    "# min-max scaling : change data distribution from 0~255 to 0~1\n",
    "\n",
    "print(f\"max value of x data : {x_train.max()}\")\n",
    "print(f\"min value of x data : {x_train.min()}\")\n",
    "\n",
    "x_train = x_train/255\n",
    "\n",
    "print(f\"max value of x data : {x_train.max()}\")\n",
    "print(f\"min value of x data : {x_train.min()}\")"
   ]
  },
  {
   "cell_type": "code",
   "execution_count": 20,
   "metadata": {},
   "outputs": [],
   "source": [
    "# 3) train / valid set split\n",
    "\n",
    "train_ratio = 0.8\n",
    "valid_ratio = 1-train_ratio\n",
    "\n",
    "train_cnts = int(x_train.shape[0]*train_ratio)\n",
    "valid_cnts = x_train.shape[0] - train_cnts\n",
    "cnts = [train_cnts, valid_cnts]"
   ]
  },
  {
   "cell_type": "code",
   "execution_count": 21,
   "metadata": {},
   "outputs": [],
   "source": [
    "x_train, x_valid = x_train.split(dim=0, split_size=cnts)\n",
    "y_train, y_valid = y_train.split(dim=0, split_size=cnts)"
   ]
  },
  {
   "cell_type": "code",
   "execution_count": 22,
   "metadata": {},
   "outputs": [
    {
     "name": "stdout",
     "output_type": "stream",
     "text": [
      "train x shape : torch.Size([48000, 28, 28]), train y shape : torch.Size([48000])\n",
      "valid x shape : torch.Size([12000, 28, 28]), valid y shape : torch.Size([12000])\n",
      "test x shape : torch.Size([10000, 28, 28]), test y shape : torch.Size([10000])\n"
     ]
    }
   ],
   "source": [
    "print(f\"train x shape : {x_train.shape}, train y shape : {y_train.shape}\")\n",
    "print(f\"valid x shape : {x_valid.shape}, valid y shape : {y_valid.shape}\")\n",
    "print(f\"test x shape : {x_test.shape}, test y shape : {y_test.shape}\")"
   ]
  },
  {
   "cell_type": "code",
   "execution_count": 23,
   "metadata": {},
   "outputs": [],
   "source": [
    "# 4) Custom Dataset\n",
    "from torch.utils.data import Dataset, DataLoader\n",
    "\n",
    "class CustomDataset(Dataset):\n",
    "    '''customize __init__, __getitem__, __len__ + flatten(config optional)'''\n",
    "    \n",
    "    def __init__(self, data, label, flatten):\n",
    "        self.data = data\n",
    "        self.label = label\n",
    "        self.flatten = flatten\n",
    "        \n",
    "        super().__init__()\n",
    "        \n",
    "    def __getitem__(self, idx):\n",
    "        x, y = self.data[idx], self.label[idx]\n",
    "        \n",
    "        if self.flatten:\n",
    "            x = x.view(-1)\n",
    "        \n",
    "        return x, y\n",
    "        \n",
    "    def __len__(self):\n",
    "        return len(self.data)\n",
    "        "
   ]
  },
  {
   "cell_type": "code",
   "execution_count": 24,
   "metadata": {},
   "outputs": [],
   "source": [
    "# 5) DataLoader 구성\n",
    "\n",
    "train_loader = DataLoader(CustomDataset(x_train, y_train, flatten=True), \n",
    "                          batch_size=128,\n",
    "                          shuffle=True)\n",
    "valid_loader = DataLoader(CustomDataset(x_valid, y_valid, flatten=True), \n",
    "                          batch_size=128,\n",
    "                          shuffle=False)\n",
    "test_loader = DataLoader(CustomDataset(x_test, y_test, flatten=True), \n",
    "                          batch_size=128,\n",
    "                          shuffle=False)"
   ]
  },
  {
   "cell_type": "code",
   "execution_count": 25,
   "metadata": {},
   "outputs": [
    {
     "name": "stdout",
     "output_type": "stream",
     "text": [
      "torch.Size([128, 784]) torch.Size([128])\n",
      "torch.Size([128, 784]) torch.Size([128])\n",
      "torch.Size([128, 784]) torch.Size([128])\n"
     ]
    }
   ],
   "source": [
    "# DataLoader 확인\n",
    "\n",
    "for x, y in train_loader:\n",
    "    print(x.shape, y.shape)\n",
    "    break\n",
    "    \n",
    "for x, y in valid_loader:\n",
    "    print(x.shape, y.shape)\n",
    "    break \n",
    "    \n",
    "for x, y in test_loader:\n",
    "    print(x.shape, y.shape)\n",
    "    break   "
   ]
  },
  {
   "cell_type": "markdown",
   "metadata": {},
   "source": [
    "위와 같이, 설정한 batch_size에 맞게 각 DataLoader가 batchify 된 데이터 iterator를 만들어낸 것을 확인할 수 있다."
   ]
  },
  {
   "cell_type": "markdown",
   "metadata": {},
   "source": [
    "참고로, 지금은 GPU(RTX 2080Ti)가 탑재된 연구실 데스크탑을 활용하기 때문에 병렬연산의 이점을 활용하기 위해 Device를 붙여줄 것이다."
   ]
  },
  {
   "cell_type": "code",
   "execution_count": 26,
   "metadata": {},
   "outputs": [
    {
     "data": {
      "text/plain": [
       "device(type='cuda', index=0)"
      ]
     },
     "execution_count": 26,
     "metadata": {},
     "output_type": "execute_result"
    }
   ],
   "source": [
    "device = torch.device('cuda:0') if torch.cuda.is_available() else torch.device('cpu')\n",
    "device"
   ]
  },
  {
   "cell_type": "markdown",
   "metadata": {},
   "source": [
    "# model"
   ]
  },
  {
   "cell_type": "code",
   "execution_count": 27,
   "metadata": {},
   "outputs": [],
   "source": [
    "class Fc_block(nn.Module):\n",
    "    \n",
    "    def __init__(self, in_dim, out_dim, batch_norm):\n",
    "        self.in_dim = in_dim\n",
    "        self.out_dim = out_dim\n",
    "        self.batch_norm = batch_norm\n",
    "        \n",
    "        super().__init__()\n",
    "        \n",
    "        if self.batch_norm:\n",
    "            self.block = nn.Sequential(\n",
    "                nn.Linear(in_dim, out_dim),\n",
    "                nn.LeakyReLU(),\n",
    "                nn.BatchNorm1d(out_dim)\n",
    "            )\n",
    "        else:\n",
    "            self.block = nn.Sequential(\n",
    "                nn.Linear(in_dim, out_dim),\n",
    "                nn.LeakyReLU(),\n",
    "                nn.Dropout()\n",
    "            )\n",
    "        \n",
    "    def forward(self, x):\n",
    "        return self.block(x)\n",
    "\n",
    "class Fc_classifier(nn.Module):\n",
    "    \n",
    "    def __init__(self, in_dim, out_dim):\n",
    "        self.in_dim = in_dim\n",
    "        self.out_dim = out_dim\n",
    "        \n",
    "        super().__init__()\n",
    "        \n",
    "        self.layers = nn.Sequential(\n",
    "            Fc_block(self.in_dim, 500, True),\n",
    "            Fc_block(500,400, True),\n",
    "            Fc_block(400,300, True),\n",
    "            Fc_block(300,200, True),\n",
    "            Fc_block(200,100, True),\n",
    "            nn.Linear(100,self.out_dim),\n",
    "            nn.LogSoftmax(dim=-1)\n",
    "        )\n",
    " \n",
    "    def forward(self, x):\n",
    "        # |x| = (bs, 784)\n",
    "        y_pred = self.layers(x)\n",
    "        # |y_pred| = (bs, 10)\n",
    "        return y_pred"
   ]
  },
  {
   "cell_type": "code",
   "execution_count": 28,
   "metadata": {
    "scrolled": true
   },
   "outputs": [
    {
     "data": {
      "text/plain": [
       "Fc_classifier(\n",
       "  (layers): Sequential(\n",
       "    (0): Fc_block(\n",
       "      (block): Sequential(\n",
       "        (0): Linear(in_features=784, out_features=500, bias=True)\n",
       "        (1): LeakyReLU(negative_slope=0.01)\n",
       "        (2): BatchNorm1d(500, eps=1e-05, momentum=0.1, affine=True, track_running_stats=True)\n",
       "      )\n",
       "    )\n",
       "    (1): Fc_block(\n",
       "      (block): Sequential(\n",
       "        (0): Linear(in_features=500, out_features=400, bias=True)\n",
       "        (1): LeakyReLU(negative_slope=0.01)\n",
       "        (2): BatchNorm1d(400, eps=1e-05, momentum=0.1, affine=True, track_running_stats=True)\n",
       "      )\n",
       "    )\n",
       "    (2): Fc_block(\n",
       "      (block): Sequential(\n",
       "        (0): Linear(in_features=400, out_features=300, bias=True)\n",
       "        (1): LeakyReLU(negative_slope=0.01)\n",
       "        (2): BatchNorm1d(300, eps=1e-05, momentum=0.1, affine=True, track_running_stats=True)\n",
       "      )\n",
       "    )\n",
       "    (3): Fc_block(\n",
       "      (block): Sequential(\n",
       "        (0): Linear(in_features=300, out_features=200, bias=True)\n",
       "        (1): LeakyReLU(negative_slope=0.01)\n",
       "        (2): BatchNorm1d(200, eps=1e-05, momentum=0.1, affine=True, track_running_stats=True)\n",
       "      )\n",
       "    )\n",
       "    (4): Fc_block(\n",
       "      (block): Sequential(\n",
       "        (0): Linear(in_features=200, out_features=100, bias=True)\n",
       "        (1): LeakyReLU(negative_slope=0.01)\n",
       "        (2): BatchNorm1d(100, eps=1e-05, momentum=0.1, affine=True, track_running_stats=True)\n",
       "      )\n",
       "    )\n",
       "    (5): Linear(in_features=100, out_features=10, bias=True)\n",
       "    (6): LogSoftmax(dim=-1)\n",
       "  )\n",
       ")"
      ]
     },
     "execution_count": 28,
     "metadata": {},
     "output_type": "execute_result"
    }
   ],
   "source": [
    "model = Fc_classifier(28*28,10).to(device)\n",
    "model"
   ]
  },
  {
   "cell_type": "markdown",
   "metadata": {},
   "source": [
    "# Set hyperparameter, crit, optimizer\n",
    "\n",
    "이젠, hyperparameter를 설정해줄 차례이다. 고려해줄 hyper parameter는 아래와 같다.\n",
    "\n",
    "1. learning_rate(SGD)\n",
    "2. n_epochs\n",
    "\n",
    "옵티마이저는 SGD로\n",
    "\n",
    "\n",
    "손실함수는 NLL Loss를 적용할 것이다."
   ]
  },
  {
   "cell_type": "code",
   "execution_count": 29,
   "metadata": {},
   "outputs": [],
   "source": [
    "lr = 1e-2\n",
    "n_epochs = 30"
   ]
  },
  {
   "cell_type": "code",
   "execution_count": 30,
   "metadata": {},
   "outputs": [],
   "source": [
    "optim = optim.SGD(model.parameters(), lr=lr)\n",
    "crit = nn.NLLLoss()"
   ]
  },
  {
   "cell_type": "markdown",
   "metadata": {},
   "source": [
    "# train"
   ]
  },
  {
   "cell_type": "code",
   "execution_count": 31,
   "metadata": {},
   "outputs": [
    {
     "name": "stdout",
     "output_type": "stream",
     "text": [
      "n_epoch : 5, train_loss : 0.04464, valid_loss : 0.09366\n",
      "n_epoch : 10, train_loss : 0.01294, valid_loss : 0.08439\n",
      "n_epoch : 15, train_loss : 0.00574, valid_loss : 0.08441\n",
      "n_epoch : 20, train_loss : 0.00379, valid_loss : 0.08447\n",
      "n_epoch : 25, train_loss : 0.00257, valid_loss : 0.08311\n",
      "n_epoch : 30, train_loss : 0.00199, valid_loss : 0.08514\n"
     ]
    }
   ],
   "source": [
    "loss_train = []\n",
    "loss_valid = [] \n",
    "\n",
    "for epoch in range(n_epochs):\n",
    "    \n",
    "    train_loss, valid_loss = 0, 0\n",
    "    \n",
    "    model.train()\n",
    "    for x, y in train_loader:\n",
    "        x, y = x.to(device), y.to(device)\n",
    "        y_pred = model(x).to(device)\n",
    "        \n",
    "        loss = crit(y_pred, y)\n",
    "        \n",
    "        optim.zero_grad()\n",
    "        loss.backward()\n",
    "        \n",
    "        optim.step()\n",
    "        \n",
    "        train_loss += float(loss)\n",
    "    \n",
    "    loss_train.append(train_loss/len(train_loader))\n",
    "    \n",
    "    model.eval()\n",
    "    with torch.no_grad():\n",
    "        for x, y in valid_loader:\n",
    "            x, y = x.to(device), y.to(device)\n",
    "            y_pred = model(x).to(device)\n",
    "            loss = crit(y_pred, y)\n",
    "\n",
    "            valid_loss += float(loss)\n",
    "        \n",
    "    loss_valid.append(valid_loss/len(valid_loader))  \n",
    "    \n",
    "    if (epoch+1) % 5 == 0:\n",
    "        print(\"n_epoch : %d, train_loss : %0.5f, valid_loss : %0.5f\" % (epoch+1, loss_train[-1], loss_valid[-1]))"
   ]
  },
  {
   "cell_type": "code",
   "execution_count": 150,
   "metadata": {
    "scrolled": true
   },
   "outputs": [
    {
     "data": {
      "image/png": "[encoded data removed]",
      "text/plain": [
       "<Figure size 720x504 with 1 Axes>"
      ]
     },
     "metadata": {
      "needs_background": "light"
     },
     "output_type": "display_data"
    }
   ],
   "source": [
    "import matplotlib.pyplot as plt\n",
    "%matplotlib inline\n",
    "\n",
    "fig = plt.figure(figsize=(10,7))\n",
    "ax = fig.add_subplot()\n",
    "\n",
    "ax.plot(loss_train, label='train loss')\n",
    "ax.plot(loss_valid, label='valid loss')\n",
    "ax.set_title(\"MNIST classification loss curve\")\n",
    "ax.legend(fontsize=15)\n",
    "plt.style.use(\"seaborn\")\n",
    "\n",
    "plt.show()"
   ]
  },
  {
   "cell_type": "markdown",
   "metadata": {},
   "source": [
    "보이는 것과 같이, valid loss가 내려올 기미를 보이지 않는다. epoch가 100에 가까워질 수록 valid loss가 조금씩 높아지는 것으로 보아, overfitting의 기미도 보이는 듯 하다.\n",
    "\n",
    "hyper parameter tuning을 할 필요가 있어 보인다."
   ]
  },
  {
   "cell_type": "markdown",
   "metadata": {},
   "source": [
    "# test"
   ]
  },
  {
   "cell_type": "code",
   "execution_count": 149,
   "metadata": {},
   "outputs": [
    {
     "name": "stdout",
     "output_type": "stream",
     "text": [
      "accuracy : 85.190\n"
     ]
    }
   ],
   "source": [
    "import numpy as np\n",
    "\n",
    "y_pred_list, y_list = [], []\n",
    "\n",
    "model.eval()\n",
    "with torch.no_grad():\n",
    "    for x, y in test_loader:\n",
    "        x = x.type(torch.cuda.FloatTensor)     \n",
    "        x, y = x.to(device), y.to(device)\n",
    "        \n",
    "        y_pred = model(x).to(device)\n",
    "        \n",
    "        y_pred_list += y_pred\n",
    "        y_list += y\n",
    "\n",
    "    y_pred_list = torch.stack(y_pred_list, dim=0)\n",
    "    y_list = torch.stack(y_list, dim=0)\n",
    "\n",
    "    accuracy = float((torch.argmax(y_pred_list, dim=-1) == y_list).detach().sum() / len(test_loader))\n",
    "    \n",
    "    print(\"accuracy : %.3f\" % accuracy)"
   ]
  },
  {
   "cell_type": "markdown",
   "metadata": {},
   "source": [
    "정확도가 그리 높지 않다. hyper parameter tuning, CNN 구조를 통한 spatial feature information extraction 등 다양한 방법을 사용해봐야 겠다."
   ]
  }
 ],
 "metadata": {
  "kernelspec": {
   "display_name": "Python 3",
   "language": "python",
   "name": "python3"
  },
  "language_info": {
   "codemirror_mode": {
    "name": "ipython",
    "version": 3
   },
   "file_extension": ".py",
   "mimetype": "text/x-python",
   "name": "python",
   "nbconvert_exporter": "python",
   "pygments_lexer": "ipython3",
   "version": "3.8.8"
  },
  "latex_envs": {
   "LaTeX_envs_menu_present": true,
   "autoclose": false,
   "autocomplete": true,
   "bibliofile": "biblio.bib",
   "cite_by": "apalike",
   "current_citInitial": 1,
   "eqLabelWithNumbers": true,
   "eqNumInitial": 1,
   "hotkeys": {
    "equation": "Ctrl-E",
    "itemize": "Ctrl-I"
   },
   "labels_anchors": false,
   "latex_user_defs": false,
   "report_style_numbering": false,
   "user_envs_cfg": false
  },
  "toc": {
   "base_numbering": 1,
   "nav_menu": {},
   "number_sections": true,
   "sideBar": true,
   "skip_h1_title": false,
   "title_cell": "Table of Contents",
   "title_sidebar": "Contents",
   "toc_cell": false,
   "toc_position": {},
   "toc_section_display": true,
   "toc_window_display": false
  }
 },
 "nbformat": 4,
 "nbformat_minor": 4
}
